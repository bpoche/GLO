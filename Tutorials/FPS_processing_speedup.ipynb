{
 "cells": [
  {
   "cell_type": "markdown",
   "metadata": {},
   "source": [
    "### Tutorial on how to process video files with opencv faster (using threads):\n",
    "https://www.pyimagesearch.com/2017/02/06/faster-video-file-fps-with-cv2-videocapture-and-opencv/\n",
    "\n",
    "### Tutorial on how to apply this to raspberry pi\n",
    "https://www.pyimagesearch.com/2015/12/28/increasing-raspberry-pi-fps-with-python-and-opencv/"
   ]
  },
  {
   "cell_type": "markdown",
   "metadata": {},
   "source": [
    "### Results of running read_frames_fast.py on 68 second gopro 720p 120FPS video on Lifebook lab laptop.\n",
    "    c:\\git_repos\\GLO\\Tutorials>python read_frames_fast.py --video \"E:\\gopro_dump\\20180321\\GOPR0313.MP4\"\n",
    "    [INFO] starting video file thread...\n",
    "    [INFO] elasped time: 514.99\n",
    "    [INFO] approx. FPS: 16.21\n",
    "    \n",
    "### This is nowhere near real-time...need to figure out ways to improve this.\n",
    "    1) reduce resolution of camera\n",
    "    2) reduce framerate of camera\n",
    "    3) reduce size of image captured for processing \n",
    "        -after capturing the entire frame for the initial frame that has a laser dot identified, we could decrease the size of the window based on how far we know the laser dot can move between two frames. The window can be centered based on x,y coordinates of laser dot...Not sure how this will work at the edges\n",
    "            -If the laser gets bumped and somehow moves off of the reduced window, could have some logic that increases the window size if it does not see the laser dot for X number of frames"
   ]
  },
  {
   "cell_type": "markdown",
   "metadata": {},
   "source": [
    "### Tried reducing the time delay on line 27 to 0.01sec i believe this delay allows the queue to build up), but the performance was basically the same:\n",
    "    c:\\git_repos\\GLO\\Tutorials>python read_frames_fast.py --video \"E:\\gopro_dump\\20180321\\GOPR0313.MP4\"\n",
    "    [INFO] starting video file thread...\n",
    "    [INFO] elasped time: 513.73\n",
    "    [INFO] approx. FPS: 16.25"
   ]
  },
  {
   "cell_type": "code",
   "execution_count": null,
   "metadata": {
    "collapsed": true
   },
   "outputs": [],
   "source": []
  }
 ],
 "metadata": {
  "anaconda-cloud": {},
  "kernelspec": {
   "display_name": "Python [conda root]",
   "language": "python",
   "name": "conda-root-py"
  },
  "language_info": {
   "codemirror_mode": {
    "name": "ipython",
    "version": 3
   },
   "file_extension": ".py",
   "mimetype": "text/x-python",
   "name": "python",
   "nbconvert_exporter": "python",
   "pygments_lexer": "ipython3",
   "version": "3.5.4"
  }
 },
 "nbformat": 4,
 "nbformat_minor": 1
}
